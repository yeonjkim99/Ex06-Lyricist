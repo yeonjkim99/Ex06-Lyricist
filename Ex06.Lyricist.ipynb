{
 "cells": [
  {
   "cell_type": "markdown",
   "id": "ab4b67c1",
   "metadata": {},
   "source": [
    "## Ex06. 프로젝트: 멋진 작사가 만들기"
   ]
  },
  {
   "cell_type": "markdown",
   "id": "20d934fe",
   "metadata": {},
   "source": [
    "## Step 0. 사용할 라이브러리 불러오기"
   ]
  },
  {
   "cell_type": "code",
   "execution_count": 1,
   "id": "3098699c",
   "metadata": {},
   "outputs": [
    {
     "name": "stdout",
     "output_type": "stream",
     "text": [
      "2.6.0\n"
     ]
    }
   ],
   "source": [
    "import os, re\n",
    "import glob  #glob 모듈의 glob 함수는 사용자가 제시한 조건에 맞는 파일명을 리스트 형식으로 반환한다\n",
    "import numpy as np\n",
    "import tensorflow as tf\n",
    "\n",
    "print(tf.__version__)"
   ]
  },
  {
   "cell_type": "markdown",
   "id": "f74228ae",
   "metadata": {},
   "source": [
    "## Step 1. 데이터 다운로드"
   ]
  },
  {
   "cell_type": "code",
   "execution_count": 2,
   "id": "6c2309ab",
   "metadata": {},
   "outputs": [
    {
     "name": "stdout",
     "output_type": "stream",
     "text": [
      "mkdir: cannot create directory ‘/aiffel/aiffel/lyricist/models’: File exists\n",
      "ln: failed to create symbolic link '/aiffel/aiffel/lyricist/data/data': Read-only file system\n"
     ]
    }
   ],
   "source": [
    "# Cloud Shell에서 실행\n",
    "!mkdir ~/aiffel/lyricist/models\n",
    "!ln -s ~/data ~/aiffel/lyricist/data"
   ]
  },
  {
   "cell_type": "markdown",
   "id": "63ca99ff",
   "metadata": {},
   "source": [
    "## Step 2. 데이터 읽어오기"
   ]
  },
  {
   "cell_type": "markdown",
   "id": "7b0e5045",
   "metadata": {},
   "source": [
    "#### glob 모듈을 사용하면 파일을 읽어오는 작업을 하기가 아주 용이함\n",
    "glob 를 활용하여 모든 txt 파일을 읽어온 후, raw_corpus 리스트에 문장 단위로 저장"
   ]
  },
  {
   "cell_type": "code",
   "execution_count": 3,
   "id": "8fdfdfba",
   "metadata": {},
   "outputs": [
    {
     "name": "stdout",
     "output_type": "stream",
     "text": [
      "데이터 크기: 187088\n",
      "Examples:\n",
      " [\"Now I've heard there was a secret chord\", 'That David played, and it pleased the Lord', \"But you don't really care for music, do you?\"]\n"
     ]
    }
   ],
   "source": [
    "# os.getenv(x)함수는 환경 변수x의 값을 포함하는 문자열 변수를 반환합니다. \n",
    "txt_file_path = os.getenv('HOME')+'/aiffel/lyricist/data/lyrics/*.txt' \n",
    "\n",
    "# txt_file_path 경로에 있는 모든 파일명을 리스트 형식으로 txt_list 에 할당\n",
    "txt_list = glob.glob(txt_file_path) \n",
    "\n",
    "raw_corpus = [] \n",
    "\n",
    "# 여러개의 txt 파일을 모두 읽어서 raw_corpus 에 담습니다.\n",
    "for txt_file in txt_list:\n",
    "    with open(txt_file, \"r\") as f:\n",
    "        # read() : 파일 전체의 내용을 하나의 문자열로 읽어온다. \n",
    "        # splitlines()  : 여러라인으로 구분되어 있는 문자열을 한라인씩 분리하여 리스트로 반환\n",
    "        raw = f.read().splitlines()\n",
    "        raw_corpus.extend(raw) # extend() : 리스트함수로 추가적인 내용을 연장 한다.\n",
    "\n",
    "print(\"데이터 크기:\", len(raw_corpus))\n",
    "print(\"Examples:\\n\", raw_corpus[:3])"
   ]
  },
  {
   "cell_type": "markdown",
   "id": "e78e3fef",
   "metadata": {},
   "source": [
    "## Step 3. 데이터 정제"
   ]
  },
  {
   "cell_type": "markdown",
   "id": "4044e2eb",
   "metadata": {},
   "source": [
    "preprocess_sentence() 함수를 활용해 데이터를 정제"
   ]
  },
  {
   "cell_type": "code",
   "execution_count": 4,
   "id": "4eca91f8",
   "metadata": {},
   "outputs": [
    {
     "data": {
      "text/plain": [
       "['<start> now i ve heard there was a secret chord <end>',\n",
       " '<start> that david played , and it pleased the lord <end>',\n",
       " '<start> but you don t really care for music , do you ? <end>',\n",
       " '<start> it goes like this <end>',\n",
       " '<start> the fourth , the fifth <end>',\n",
       " '<start> the minor fall , the major lift <end>',\n",
       " '<start> the baffled king composing hallelujah hallelujah <end>',\n",
       " '<start> hallelujah <end>',\n",
       " '<start> hallelujah <end>',\n",
       " '<start> hallelujah your faith was strong but you needed proof <end>']"
      ]
     },
     "execution_count": 4,
     "metadata": {},
     "output_type": "execute_result"
    }
   ],
   "source": [
    "# 입력된 문장을\n",
    "#     1. 소문자로 바꾸고, 양쪽 공백을 지움\n",
    "#     2. 특수문자 양쪽에 공백을 삽입\n",
    "#     3. 여러개의 공백은 하나의 공백으로 바꿈\n",
    "#     4. a-zA-Z?.!,¿가 아닌 모든 문자를 하나의 공백으로 바꿈\n",
    "#     5. 다시 양쪽 공백을 지움\n",
    "#     6. 문장 시작에는 <start>, 끝에는 <end>를 추가\n",
    "def preprocess_sentence(sentence):\n",
    "    sentence = sentence.lower().strip() # 1\n",
    "    sentence = re.sub(r\"([?.!,¿])\", r\" \\1 \", sentence) # 2\n",
    "    sentence = re.sub(r'[\" \"]+', \" \", sentence) # 3\n",
    "    sentence = re.sub(r\"[^a-zA-Z?.!,¿]+\", \" \", sentence) # 4\n",
    "    sentence = sentence.strip() # 5\n",
    "    sentence = '<start> ' + sentence + ' <end>' # 6\n",
    "    return sentence\n",
    "\n",
    "# 여기에 정제된 문장을 모은다\n",
    "corpus = []\n",
    "# raw_corpus list에 저장된 문장들을 순서대로 반환하여 sentence에 저장\n",
    "for sentence in raw_corpus:\n",
    "    # 우리가 원하지 않는 문장은 건너뛴다\n",
    "    if len(sentence) == 0: continue\n",
    "    if sentence[-1] == \":\": continue\n",
    "    \n",
    "    # 앞서 구현한 preprocess_sentence() 함수를 이용하여 문장을 정제\n",
    "    preprocessed_sentence = preprocess_sentence(sentence)\n",
    "    corpus.append(preprocessed_sentence)\n",
    "        \n",
    "# 정제된 결과를 10개만 확인\n",
    "corpus[:10]"
   ]
  },
  {
   "cell_type": "markdown",
   "id": "002ba8a0",
   "metadata": {},
   "source": [
    "## Step 4. 평가 데이터셋 분리"
   ]
  },
  {
   "cell_type": "markdown",
   "id": "ca4e2983",
   "metadata": {},
   "source": [
    "tokenize() 함수로 데이터를 Tensor로 변환한 후, sklearn 모듈의 train_test_split() 함수로 훈련 데이터와 평가 데이터를 분리\n",
    "\n",
    "단어장의 크기는 12,000 이상 으로 설정\n",
    "\n",
    "추가로 지나치게 긴 문장은 다른 데이터들이 과도한 Padding을 갖게 하므로 제거\n",
    "\n",
    "너무 긴 문장은 노래 가사 작사하기에 어울리지 않을 수도 있으므로 문장을 토큰화 했을 때 토큰의 개수가 15개를 넘어가는 문장은 학습 데이터에서 제외함\n",
    "\n",
    "총 데이터의 20% 를 평가 데이터셋으로 사용"
   ]
  },
  {
   "cell_type": "code",
   "execution_count": 5,
   "id": "0d873fb7",
   "metadata": {},
   "outputs": [
    {
     "name": "stdout",
     "output_type": "stream",
     "text": [
      "[[   2   50    5 ...    0    0    0]\n",
      " [   2   17 2639 ...    0    0    0]\n",
      " [   2   36    7 ...   43    3    0]\n",
      " ...\n",
      " [   5   22    9 ...   10 1013    3]\n",
      " [  37   15 9049 ...  877  647    3]\n",
      " [   2    7   34 ...    0    0    0]] <keras_preprocessing.text.Tokenizer object at 0x7f30901defd0>\n"
     ]
    }
   ],
   "source": [
    "def tokenize(corpus):\n",
    "    # 12,000단어에 포함되지 못한 단어는 '<unk>'로 바꿈\n",
    "    tokenizer = tf.keras.preprocessing.text.Tokenizer(\n",
    "        num_words=12000, \n",
    "        filters=' ',\n",
    "        oov_token=\"<unk>\"\n",
    "    )\n",
    "    # corpus를 이용해 tokenizer 내부의 단어장을 완성\n",
    "    # tokenizer.fit_on_texts(texts): 문자 데이터를 입력받아 리스트의 형태로 변환하는 메서드\n",
    "    tokenizer.fit_on_texts(corpus)\n",
    "    # 준비한 tokenizer를 이용해 corpus를 Tensor로 변환\n",
    "    # tokenizer.texts_to_sequences(texts): 텍스트 안의 단어들을 숫자의 시퀀스 형태로 변환하는 메서드\n",
    "    tensor = tokenizer.texts_to_sequences(corpus)   \n",
    "    # 입력 데이터의 시퀀스 길이를 일정하게 맞춰줌\n",
    "    # 만약 시퀀스가 짧다면 문장 뒤에 패딩을 붙여 길이를 맞춰줌\n",
    "    # (문장 앞에 패딩을 붙여 길이를 맞추고 싶다면 padding='pre'를 사용)\n",
    "    # 한 문장당 토큰의 개수를 최대 15개로 제한\n",
    "    tensor = tf.keras.preprocessing.sequence.pad_sequences(tensor, padding='post', maxlen=15)  \n",
    "    \n",
    "    print(tensor,tokenizer)\n",
    "    return tensor, tokenizer\n",
    "\n",
    "tensor, tokenizer = tokenize(corpus) \n",
    "\n",
    "\n",
    "from sklearn.model_selection import train_test_split\n",
    "\n",
    "# tensor로부터 소스문장및 타겟문장을 생성\n",
    "src_input = tensor[:, :-1]  # 마지막 토큰 제거\n",
    "tgt_input = tensor[:, 1:]   # 처음 토큰 제거\n",
    "enc_train, enc_val, dec_train, dec_val = train_test_split(src_input, tgt_input, test_size=0.2,\n",
    "                                                          shuffle=True, random_state=32)"
   ]
  },
  {
   "cell_type": "markdown",
   "id": "d56e4807",
   "metadata": {},
   "source": [
    "#### 대이터셋 객체 생성\n",
    "tf.data.Dataset.from_tensor_slices() 메소드를 이용해 tf.data.Dataset객체를 생성\n",
    "\n",
    "https://www.tensorflow.org/api_docs/python/tf/data/Dataset"
   ]
  },
  {
   "cell_type": "code",
   "execution_count": 6,
   "id": "2a37abca",
   "metadata": {},
   "outputs": [
    {
     "data": {
      "text/plain": [
       "<BatchDataset shapes: ((256, 14), (256, 14)), types: (tf.int32, tf.int32)>"
      ]
     },
     "execution_count": 6,
     "metadata": {},
     "output_type": "execute_result"
    }
   ],
   "source": [
    "BUFFER_SIZE = len(src_input)\n",
    "BATCH_SIZE = 256\n",
    "steps_per_epoch = len(src_input) // BATCH_SIZE\n",
    "\n",
    "# tokenizer가 구축한 단어사전 내 12,000개와, 여기 포함되지 않은 0:<pad>를 포함하여 12,001개\n",
    "# tokenizer.num_words: 주어진 데이터의 문장들에서 빈도수가 높은 n개의 단어만 선택\n",
    "# tokenize() 함수에서 num_words를 12,000개로 선언했기 때문에, tokenizer.num_words의 값은 12,000\n",
    "VOCAB_SIZE = tokenizer.num_words + 1   \n",
    "\n",
    "# 준비한 데이터 소스로부터 데이터셋을 만듭니다\n",
    "dataset = tf.data.Dataset.from_tensor_slices((src_input, tgt_input))\n",
    "dataset = dataset.shuffle(BUFFER_SIZE)\n",
    "dataset = dataset.batch(BATCH_SIZE, drop_remainder=True)\n",
    "dataset"
   ]
  },
  {
   "cell_type": "markdown",
   "id": "ab6f998b",
   "metadata": {},
   "source": [
    "## Step 5. 인공지능 만들기"
   ]
  },
  {
   "cell_type": "markdown",
   "id": "ef3a6969",
   "metadata": {},
   "source": [
    "모델의 Embedding Size와 Hidden Size를 조절하며 10 Epoch 안에 val_loss 값을 2.2 수준으로 줄일 수 있는 모델을 설계\n",
    "\n",
    "loss에 대하여 https://www.tensorflow.org/api_docs/python/tf/keras/losses/SparseCategoricalCrossentropy 참조"
   ]
  },
  {
   "cell_type": "code",
   "execution_count": 7,
   "id": "11b2366a",
   "metadata": {},
   "outputs": [
    {
     "name": "stdout",
     "output_type": "stream",
     "text": [
      "Model: \"text_generator\"\n",
      "_________________________________________________________________\n",
      "Layer (type)                 Output Shape              Param #   \n",
      "=================================================================\n",
      "embedding (Embedding)        multiple                  3072256   \n",
      "_________________________________________________________________\n",
      "lstm (LSTM)                  multiple                  5246976   \n",
      "_________________________________________________________________\n",
      "lstm_1 (LSTM)                multiple                  8392704   \n",
      "_________________________________________________________________\n",
      "dense (Dense)                multiple                  12301025  \n",
      "=================================================================\n",
      "Total params: 29,012,961\n",
      "Trainable params: 29,012,961\n",
      "Non-trainable params: 0\n",
      "_________________________________________________________________\n"
     ]
    }
   ],
   "source": [
    "class TextGenerator(tf.keras.Model):\n",
    "    def __init__(self, vocab_size, embedding_size, hidden_size):\n",
    "        super().__init__()\n",
    "        # Embedding 레이어, 2개의 LSTM 레이어, 1개의 Dense 레이어로 구성되어 있다.\n",
    "        self.embedding = tf.keras.layers.Embedding(vocab_size, embedding_size) \n",
    "        self.rnn_1 = tf.keras.layers.LSTM(hidden_size, return_sequences=True)  \n",
    "        self.rnn_2 = tf.keras.layers.LSTM(hidden_size, return_sequences=True)\n",
    "        self.linear = tf.keras.layers.Dense(vocab_size)\n",
    "        \n",
    "    def call(self, x):\n",
    "        out = self.embedding(x)\n",
    "        out = self.rnn_1(out)\n",
    "        out = self.rnn_2(out)\n",
    "        out = self.linear(out)\n",
    "        \n",
    "        return out\n",
    "\n",
    "# embedding size 값이 커질수록 단어의 추상적인 특징들을 더 잡아낼 수 있지만\n",
    "# 그만큼 충분한 데이터가 없으면 안좋은 결과 값을 가져옴  \n",
    "embedding_size = 256 # 워드 벡터의 차원수를 말하며 단어가 추상적으로 표현되는 크기\n",
    "hidden_size = 1024   # 모델에 얼마나 많은 일꾼을 둘 것인가? 정도로 이해하면 좋다.\n",
    "lyricist = TextGenerator(tokenizer.num_words + 1, embedding_size , hidden_size)\n",
    "# tokenizer.num_words에 +1인 이유는 문장에 없는 pad가 사용되었기 때문 \n",
    "\n",
    "# 데이터셋에서 데이터 한 배치만 불러오는 방법\n",
    "for src_sample, tgt_sample in dataset.take(1): break\n",
    "# 한 배치만 불러온 데이터를 모델에 넣어본다\n",
    "lyricist(src_sample) \n",
    "\n",
    "# 모델의 구조를 확인\n",
    "lyricist.summary()"
   ]
  },
  {
   "cell_type": "markdown",
   "id": "4d1b7bd4",
   "metadata": {},
   "source": [
    "### 모델 학습"
   ]
  },
  {
   "cell_type": "code",
   "execution_count": 8,
   "id": "4f5080bf",
   "metadata": {},
   "outputs": [
    {
     "name": "stdout",
     "output_type": "stream",
     "text": [
      "Epoch 1/10\n",
      "686/686 [==============================] - 119s 170ms/step - loss: 3.6142\n",
      "Epoch 2/10\n",
      "686/686 [==============================] - 117s 171ms/step - loss: 3.1313\n",
      "Epoch 3/10\n",
      "686/686 [==============================] - 117s 170ms/step - loss: 2.9379\n",
      "Epoch 4/10\n",
      "686/686 [==============================] - 117s 170ms/step - loss: 2.7872\n",
      "Epoch 5/10\n",
      "686/686 [==============================] - 117s 171ms/step - loss: 2.6560\n",
      "Epoch 6/10\n",
      "686/686 [==============================] - 117s 171ms/step - loss: 2.5364\n",
      "Epoch 7/10\n",
      "686/686 [==============================] - 117s 171ms/step - loss: 2.4244\n",
      "Epoch 8/10\n",
      "686/686 [==============================] - 117s 171ms/step - loss: 2.3206\n",
      "Epoch 9/10\n",
      "686/686 [==============================] - 117s 171ms/step - loss: 2.2216\n",
      "Epoch 10/10\n",
      "686/686 [==============================] - 117s 171ms/step - loss: 2.1262\n"
     ]
    },
    {
     "data": {
      "text/plain": [
       "<keras.callbacks.History at 0x7f3085d86d00>"
      ]
     },
     "execution_count": 8,
     "metadata": {},
     "output_type": "execute_result"
    }
   ],
   "source": [
    "# 손실값(loss)이 최소가 되도록 하는것이 학습의 목표이고 학습을 수행하는 알고리즘을 optimizer라고 함\n",
    "optimizer = tf.keras.optimizers.Adam() # Adam은 현재 가장 많이 사용하는 옵티마이저\n",
    "\n",
    "# 훈련 데이터의 라벨이 정수의 형태로 제공될 때 사용하는 손실함수\n",
    "loss = tf.keras.losses.SparseCategoricalCrossentropy(\n",
    "    from_logits=True, # 기본값은 False. 모델에 의해 생성된 출력값이 정규화되지 않았음을 손실 함수에 알려줌\n",
    "                      # 즉 softmax함수가 적용되지 않았다는걸 의미 \n",
    "    reduction='none'  # 기본값은 SUM. 각자 나오는 값의 반환 원할 때 None을 사용\n",
    ")\n",
    "\n",
    "# 모델을 학습시키키 위한 학습과정을 설정하는 단계이다.\n",
    "lyricist.compile(loss=loss, optimizer=optimizer) # 손실함수와 훈련과정을 설정\n",
    "lyricist.fit(dataset, epochs=10)  # epochs=10으로 val_loss 값 2.2 이하가 목표"
   ]
  },
  {
   "cell_type": "markdown",
   "id": "4addd8d2",
   "metadata": {},
   "source": [
    "loss값이 2.1262로 목표를 달성함"
   ]
  },
  {
   "cell_type": "markdown",
   "id": "a31ab773",
   "metadata": {},
   "source": [
    "## Step 6. 모델 평가"
   ]
  },
  {
   "cell_type": "code",
   "execution_count": 9,
   "id": "1e4e9510",
   "metadata": {},
   "outputs": [
    {
     "data": {
      "text/plain": [
       "'<start> i love you <end> '"
      ]
     },
     "execution_count": 9,
     "metadata": {},
     "output_type": "execute_result"
    }
   ],
   "source": [
    "#문장생성 함수 정의\n",
    "#모델에게 시작 문장을 전달하면 모델이 시작 문장을 바탕으로 작문을 진행\n",
    "def generate_text(model, tokenizer, init_sentence=\"<start>\", max_len=20): #시작 문자열을 init_sentence 로 받으며 디폴트값은 <start> 를 받는다\n",
    "    # 테스트를 위해서 입력받은 init_sentence도 텐서로 변환합니다\n",
    "    test_input = tokenizer.texts_to_sequences([init_sentence]) #텍스트 안의 단어들을 숫자의 시퀀스의 형태로 변환\n",
    "    test_tensor = tf.convert_to_tensor(test_input, dtype=tf.int64)\n",
    "    end_token = tokenizer.word_index[\"<end>\"]\n",
    "    # 단어 하나씩 예측해 문장을 만듭니다\n",
    "    #    1. 입력받은 문장의 텐서를 입력합니다\n",
    "    #    2. 예측된 값 중 가장 높은 확률인 word index를 뽑아냅니다\n",
    "    #    3. 2에서 예측된 word index를 문장 뒤에 붙입니다\n",
    "    #    4. 모델이 <end>를 예측했거나, max_len에 도달했다면 문장 생성을 마칩니다 (도달 하지 못하였으면 while 루프를 돌면서 다음 단어를 예측)\n",
    "    while True: #루프를 돌면서 init_sentence에 단어를 하나씩 생성성\n",
    "        # 1\n",
    "        predict = model(test_tensor) \n",
    "        # 2\n",
    "        predict_word = tf.argmax(tf.nn.softmax(predict, axis=-1), axis=-1)[:, -1] \n",
    "        # 3 \n",
    "        test_tensor = tf.concat([test_tensor, tf.expand_dims(predict_word, axis=0)], axis=-1)\n",
    "        # 4 \n",
    "        if predict_word.numpy()[0] == end_token: break\n",
    "        if test_tensor.shape[1] >= max_len: break\n",
    "    generated = \"\"\n",
    "    # tokenizer를 이용해 word index를 단어로 하나씩 변환합니다 \n",
    "    for word_index in test_tensor[0].numpy():\n",
    "        generated += tokenizer.index_word[word_index] + \" \"\n",
    "    return generated #최종적으로 모델이 생성한 문장을 반환\n",
    "\n",
    "# generate_text 함수에 lyricist 라 정의한 모델을 이용해서 ilove 로 시작되는 문장을 생성\n",
    "generate_text(lyricist, tokenizer, init_sentence=\"<start> i love\", max_len=20)"
   ]
  },
  {
   "cell_type": "markdown",
   "id": "dfc21cf9",
   "metadata": {},
   "source": [
    "## Step 7. 소회"
   ]
  },
  {
   "cell_type": "markdown",
   "id": "a30041d6",
   "metadata": {},
   "source": [
    "모델이 \"i love you' 라는 문장을 출력하였다.\n",
    "의외로 간단히 만든 모델이 좋은 결과를 낸다는것이 신기하다.\n",
    "\n",
    "자연어처리는 영상처리보다 학습하는데 더 많은 시간이 소요되는것을 알 수 있었다.\n",
    "실시간으로 기사검색을 하여 의미있는 내용을 추출하고 의사결정에 반영하려면 좀더 개선된 모델과 고사양의 장비가 있어야 할 것으로 생각된다."
   ]
  }
 ],
 "metadata": {
  "kernelspec": {
   "display_name": "Python 3 (ipykernel)",
   "language": "python",
   "name": "python3"
  },
  "language_info": {
   "codemirror_mode": {
    "name": "ipython",
    "version": 3
   },
   "file_extension": ".py",
   "mimetype": "text/x-python",
   "name": "python",
   "nbconvert_exporter": "python",
   "pygments_lexer": "ipython3",
   "version": "3.9.7"
  }
 },
 "nbformat": 4,
 "nbformat_minor": 5
}
